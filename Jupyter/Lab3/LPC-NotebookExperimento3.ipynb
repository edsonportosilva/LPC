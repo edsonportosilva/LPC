{
 "cells": [
  {
   "cell_type": "markdown",
   "metadata": {
    "colab_type": "text",
    "id": "view-in-github"
   },
   "source": [
    "<a href=\"https://colab.research.google.com/github/edsonportosilva/LPC/blob/master/Jupyter/Lab3/LPC-NotebookExperimento3.ipynb\" target=\"_parent\"><img src=\"https://colab.research.google.com/assets/colab-badge.svg\" alt=\"Open In Colab\"/></a>"
   ]
  },
  {
   "cell_type": "markdown",
   "metadata": {
    "id": "iLNAqb_idRfW"
   },
   "source": [
    "```\n",
    " Laboratório de Princípios de Comunicações (LPC) \n",
    " Notebook de auxílio ao guia de Experimentos 3\n",
    " Tema(s): Filtragem de sinais e Relação sinal-ruído.\n",
    " \n",
    " As práticas experimentais propostas no experimento 2 têm por objetivos:\n",
    " \n",
    " - Modulação de amplitude.\n",
    " - AM-DSB\n",
    " - AM-DSB-SC\n",
    " - AM-SSB\n",
    " \n",
    " ```"
   ]
  },
  {
   "cell_type": "markdown",
   "metadata": {
    "id": "ukaht-erdRfY"
   },
   "source": [
    "# Notebook de auxílio ao Guia de Experimentos 3"
   ]
  },
  {
   "cell_type": "markdown",
   "metadata": {
    "toc": true
   },
   "source": [
    "<h1>Sumário<span class=\"tocSkip\"></span></h1>\n",
    "<div class=\"toc\"><ul class=\"toc-item\"><li><span><a href=\"#Define-parâmetros-da-modulação\" data-toc-modified-id=\"Define-parâmetros-da-modulação-1\"><span class=\"toc-item-num\">1&nbsp;&nbsp;</span>Define parâmetros da modulação</a></span></li><li><span><a href=\"#Carrega-sinal-de-áudio\" data-toc-modified-id=\"Carrega-sinal-de-áudio-2\"><span class=\"toc-item-num\">2&nbsp;&nbsp;</span>Carrega sinal de áudio</a></span><ul class=\"toc-item\"><li><span><a href=\"#Carrega-e-visualiza-sinal-no-tempo-e-na-frequência\" data-toc-modified-id=\"Carrega-e-visualiza-sinal-no-tempo-e-na-frequência-2.1\"><span class=\"toc-item-num\">2.1&nbsp;&nbsp;</span>Carrega e visualiza sinal no tempo e na frequência</a></span></li><li><span><a href=\"#Filtragem-para-limitar-banda-do-sinal\" data-toc-modified-id=\"Filtragem-para-limitar-banda-do-sinal-2.2\"><span class=\"toc-item-num\">2.2&nbsp;&nbsp;</span>Filtragem para limitar banda do sinal</a></span></li></ul></li><li><span><a href=\"#Caso-1:-modulação-AM-DSB\" data-toc-modified-id=\"Caso-1:-modulação-AM-DSB-3\"><span class=\"toc-item-num\">3&nbsp;&nbsp;</span>Caso 1: modulação AM-DSB</a></span><ul class=\"toc-item\"><li><span><a href=\"#Modulação\" data-toc-modified-id=\"Modulação-3.1\"><span class=\"toc-item-num\">3.1&nbsp;&nbsp;</span>Modulação</a></span></li><li><span><a href=\"#Demodulação-por-envoltória\" data-toc-modified-id=\"Demodulação-por-envoltória-3.2\"><span class=\"toc-item-num\">3.2&nbsp;&nbsp;</span>Demodulação por envoltória</a></span></li><li><span><a href=\"#Áudio-demodulado\" data-toc-modified-id=\"Áudio-demodulado-3.3\"><span class=\"toc-item-num\">3.3&nbsp;&nbsp;</span>Áudio demodulado</a></span></li></ul></li><li><span><a href=\"#Caso-2:-modulação-AM-DSB-SC\" data-toc-modified-id=\"Caso-2:-modulação-AM-DSB-SC-4\"><span class=\"toc-item-num\">4&nbsp;&nbsp;</span>Caso 2: modulação AM-DSB-SC</a></span><ul class=\"toc-item\"><li><span><a href=\"#Modulação\" data-toc-modified-id=\"Modulação-4.1\"><span class=\"toc-item-num\">4.1&nbsp;&nbsp;</span>Modulação</a></span></li><li><span><a href=\"#Demodulação-síncrona\" data-toc-modified-id=\"Demodulação-síncrona-4.2\"><span class=\"toc-item-num\">4.2&nbsp;&nbsp;</span>Demodulação síncrona</a></span></li><li><span><a href=\"#Áudio-demodulado\" data-toc-modified-id=\"Áudio-demodulado-4.3\"><span class=\"toc-item-num\">4.3&nbsp;&nbsp;</span>Áudio demodulado</a></span></li></ul></li><li><span><a href=\"#Caso-3:-modulação-AM-SSB\" data-toc-modified-id=\"Caso-3:-modulação-AM-SSB-5\"><span class=\"toc-item-num\">5&nbsp;&nbsp;</span>Caso 3: modulação AM-SSB</a></span><ul class=\"toc-item\"><li><span><a href=\"#Filtro-de-Hilbert\" data-toc-modified-id=\"Filtro-de-Hilbert-5.1\"><span class=\"toc-item-num\">5.1&nbsp;&nbsp;</span>Filtro de Hilbert</a></span></li><li><span><a href=\"#Modulação\" data-toc-modified-id=\"Modulação-5.2\"><span class=\"toc-item-num\">5.2&nbsp;&nbsp;</span>Modulação</a></span></li><li><span><a href=\"#Demodulação-síncrona\" data-toc-modified-id=\"Demodulação-síncrona-5.3\"><span class=\"toc-item-num\">5.3&nbsp;&nbsp;</span>Demodulação síncrona</a></span></li><li><span><a href=\"#Áudio-demodulado\" data-toc-modified-id=\"Áudio-demodulado-5.4\"><span class=\"toc-item-num\">5.4&nbsp;&nbsp;</span>Áudio demodulado</a></span></li></ul></li><li><span><a href=\"#Referências\" data-toc-modified-id=\"Referências-6\"><span class=\"toc-item-num\">6&nbsp;&nbsp;</span>Referências</a></span></li></ul></div>"
   ]
  },
  {
   "cell_type": "code",
   "execution_count": null,
   "metadata": {
    "ExecuteTime": {
     "end_time": "2022-11-23T11:40:26.185108Z",
     "start_time": "2022-11-23T11:40:26.160946Z"
    },
    "colab": {
     "base_uri": "https://localhost:8080/",
     "height": 17
    },
    "id": "2jqhBgH_dRfZ",
    "outputId": "0ae6e43d-8b24-45ad-8b58-e1f66e65ab3d"
   },
   "outputs": [],
   "source": [
    "from IPython.core.pylabtools import figsize\n",
    "\n",
    "from IPython.core.display import HTML\n",
    "HTML(\"\"\"\n",
    "<style>\n",
    ".output_png {\n",
    "    display: table-cell;\n",
    "    text-align: center;\n",
    "    vertical-align: middle;\n",
    "}\n",
    "</style>\n",
    "\"\"\")"
   ]
  },
  {
   "cell_type": "code",
   "execution_count": null,
   "metadata": {
    "ExecuteTime": {
     "end_time": "2022-11-23T11:40:27.367561Z",
     "start_time": "2022-11-23T11:40:26.185108Z"
    },
    "id": "A_OiYNDYdRfb"
   },
   "outputs": [],
   "source": [
    "if 'google.colab' in str(get_ipython()):    \n",
    "    from pathlib import Path\n",
    "    from os import chdir as cd\n",
    "    \n",
    "    lpcdir = Path('/content/LPC/Jupyter/Lab3/')\n",
    "\n",
    "    if lpcdir.is_dir():\n",
    "        cd(lpcdir)\n",
    "    else:\n",
    "        ! git clone -b master https://github.com/edsonportosilva/LPC    \n",
    "        cd(lpcdir)\n",
    "\n",
    "# Carrega pacotes \n",
    "from scipy.signal import firwin, lfilter, freqz, hilbert\n",
    "import matplotlib.pyplot as plt\n",
    "import numpy as np\n",
    "from numpy.random import normal\n",
    "import IPython\n",
    "from scipy.io import loadmat, wavfile"
   ]
  },
  {
   "cell_type": "code",
   "execution_count": null,
   "metadata": {
    "ExecuteTime": {
     "end_time": "2022-11-23T11:40:27.382949Z",
     "start_time": "2022-11-23T11:40:27.368990Z"
    },
    "id": "A_OiYNDYdRfb"
   },
   "outputs": [],
   "source": [
    "# bandpass FIR filter.\n",
    "def lowpass_firwin(ntaps, fcut, Fs, window='hamming'):    \n",
    "    taps = firwin(ntaps, fcut, fs=Fs, window=window, scale=True)\n",
    "    return taps\n",
    "\n",
    "\n",
    "def firFilter(h, x):\n",
    "    \"\"\"\n",
    "    h: impulse response (symmetric)\n",
    "    x: input signal \n",
    "    y: output signal\n",
    "    \"\"\"   \n",
    "    N = h.size\n",
    "    x = np.pad(x, (0, int(N/2)),'constant')\n",
    "    y = lfilter(h,1,x)\n",
    "    \n",
    "    return y[int(N/2):y.size]\n",
    "\n",
    "def hilbertT(x):\n",
    "    \"\"\"\n",
    "    Hilbert transform of x\n",
    "    \n",
    "    x: input signal \n",
    "    \n",
    "    return: hilbert transform of x\n",
    "    \"\"\"   \n",
    "    return np.imag(hilbert(x))\n",
    "\n",
    "figsize(10, 3)\n",
    "%matplotlib inline"
   ]
  },
  {
   "cell_type": "markdown",
   "metadata": {
    "id": "6ldeM3TXdRfe"
   },
   "source": [
    "## Define parâmetros da modulação"
   ]
  },
  {
   "cell_type": "code",
   "execution_count": null,
   "metadata": {
    "ExecuteTime": {
     "end_time": "2022-11-23T11:40:27.490942Z",
     "start_time": "2022-11-23T11:40:27.383917Z"
    },
    "colab": {
     "base_uri": "https://localhost:8080/",
     "height": 577
    },
    "id": "0-bPaMu-dRfc",
    "outputId": "f1256373-8b6f-4604-d3cc-fe31c3f82560"
   },
   "outputs": [],
   "source": [
    "fc_tx  = 10e3     # frequência da portadora\n",
    "B_sig  = 4e3      # largura de banda do sinal de áudio\n",
    "ntaps  = 4096+1   # número de coeficientes do filtro passa-baixas \n",
    "π      = np.pi"
   ]
  },
  {
   "cell_type": "markdown",
   "metadata": {},
   "source": [
    "## Carrega sinal de áudio\n",
    "\n",
    "### Carrega e visualiza sinal no tempo e na frequência"
   ]
  },
  {
   "cell_type": "code",
   "execution_count": null,
   "metadata": {
    "ExecuteTime": {
     "end_time": "2022-11-23T11:40:29.876568Z",
     "start_time": "2022-11-23T11:40:27.492789Z"
    },
    "colab": {
     "base_uri": "https://localhost:8080/",
     "height": 577
    },
    "id": "TAetb_PbdRfe",
    "outputId": "be6c6e8b-9ff6-4056-b381-d20bc183ed7d"
   },
   "outputs": [],
   "source": [
    "# carrega arquivo de áudio\n",
    "Fs, y = wavfile.read('sinal.wav')\n",
    "\n",
    "t = np.arange(0, len(y))*1/Fs\n",
    "plt.figure(figsize =(12,4))\n",
    "plt.plot(t, y, linewidth = 0.2, label='sinal de voz')\n",
    "plt.xlabel('tempo (s)')\n",
    "plt.ylabel('Amplitude')\n",
    "plt.grid(True)\n",
    "plt.xlim(min(t),max(t));\n",
    "plt.legend()\n",
    "\n",
    "plt.figure(figsize =(12,4))\n",
    "plt.psd(y, Fs=Fs, label='DEP do sinal de voz', linewidth=0.8, NFFT=4096); # estima DEP do sinal\n",
    "plt.legend();\n",
    "plt.xlim(0,Fs/2);\n",
    "plt.grid(True);\n",
    "\n",
    "print('Áudio do sinal carregado:')\n",
    "IPython.display.Audio('sinal.wav')"
   ]
  },
  {
   "cell_type": "markdown",
   "metadata": {},
   "source": [
    "### Filtragem para limitar banda do sinal"
   ]
  },
  {
   "cell_type": "code",
   "execution_count": null,
   "metadata": {
    "ExecuteTime": {
     "end_time": "2022-11-23T11:40:34.400670Z",
     "start_time": "2022-11-23T11:40:29.877568Z"
    },
    "colab": {
     "base_uri": "https://localhost:8080/",
     "height": 577
    },
    "id": "TAetb_PbdRfe",
    "outputId": "be6c6e8b-9ff6-4056-b381-d20bc183ed7d"
   },
   "outputs": [],
   "source": [
    "# define filtro passa-baixas com a banda do sinal\n",
    "g = lowpass_firwin(ntaps, B_sig, Fs)\n",
    "w, G = freqz(g, fs=Fs, worN=4096)\n",
    "\n",
    "# plota o valor absoluto das respostas em frequência do filtro passa-baixas\n",
    "plt.figure(figsize =(12,4))\n",
    "plt.plot(w, 10*np.log10(np.abs(G)), linewidth=2, label = 'G(f)')\n",
    "plt.xlabel('Frequência (Hz)')\n",
    "plt.ylabel('Ganho (dB)')\n",
    "plt.title('Resposta em frequência')\n",
    "plt.legend()\n",
    "plt.grid(True)\n",
    "plt.xlim(min(w),max(w));\n",
    "\n",
    "# Pre-processamento:\n",
    "y = y/abs(y).max(0)  # normaliza amplitude\n",
    "x = firFilter(g, y)  # limita a banda do sinal\n",
    "\n",
    "t = np.arange(0, len(x))*1/Fs\n",
    "plt.figure(figsize =(12,4))\n",
    "plt.plot(t, x, linewidth = 0.2, label='sinal de voz')\n",
    "plt.xlabel('Tempo (s)')\n",
    "plt.ylabel('Amplitude')\n",
    "plt.grid(True)\n",
    "plt.xlim(min(t),max(t));\n",
    "plt.legend()\n",
    "\n",
    "plt.figure(figsize =(12,4))\n",
    "plt.psd(y, Fs=Fs, label='DEP do sinal original', linewidth=0.8, NFFT=4096); # estima DEP do sinal\n",
    "plt.psd(x, Fs=Fs, label='DEP do sinal filtrado', linewidth=0.8, NFFT=4096); # estima DEP do sinal\n",
    "plt.legend();\n",
    "plt.xlim(0,Fs/2);\n",
    "plt.grid(True);\n",
    "\n",
    "\n",
    "wavfile.write('sinal_filtrado.wav', int(Fs), x.astype(np.float32))\n",
    "\n",
    "print('Áudio do sinal filtrado:')\n",
    "IPython.display.Audio('sinal_filtrado.wav')"
   ]
  },
  {
   "cell_type": "markdown",
   "metadata": {
    "id": "Kpaxy0o9dRff"
   },
   "source": [
    "## Caso 1: modulação AM-DSB\n",
    "\n",
    "### Modulação"
   ]
  },
  {
   "cell_type": "code",
   "execution_count": null,
   "metadata": {
    "ExecuteTime": {
     "end_time": "2022-11-23T11:41:52.713654Z",
     "start_time": "2022-11-23T11:41:51.052580Z"
    },
    "colab": {
     "base_uri": "https://localhost:8080/",
     "height": 0
    },
    "id": "NQNmBe0fdRff",
    "outputId": "f37151b1-cc12-4418-c84c-5c414933d925"
   },
   "outputs": [],
   "source": [
    "μ = 1 # índice de modulação\n",
    "A = 2 # amplitude da portadora\n",
    "\n",
    "# normaliza amplitude do sinal mensagem x(t)\n",
    "x = x/abs(x).max(0)  # normaliza amplitude\n",
    "\n",
    "# Modula sinal de voz DSB e plota espectro do sinal modulado:\n",
    "s_dsb = A*( 1 + μ * x)*np.cos(2*π*fc_tx*t)\n",
    "\n",
    "\n",
    "analytic_signal = hilbert(s_dsb)\n",
    "envoltoria = np.abs(analytic_signal)\n",
    "\n",
    "ind = np.arange(10000,14000)\n",
    "plt.figure(figsize =(12,4))\n",
    "plt.plot(t[ind], s_dsb[ind], linewidth=0.8, alpha=0.75, label='Portadora modulada AM-DSB')\n",
    "plt.plot(t[ind], envoltoria[ind], linewidth=0.75, label='Envoltória')\n",
    "plt.xlabel('Tempo (s)')\n",
    "plt.ylabel('Amplitude')\n",
    "plt.xlim(min(t[ind]), max(t[ind]))\n",
    "plt.grid()\n",
    "plt.legend()\n",
    "\n",
    "plt.figure(figsize =(12,4))\n",
    "plt.psd(x, Fs=Fs, label='DEP do sinal de voz',sides='onesided', linewidth=0.8, NFFT=4096); # estima DEP do sinal\n",
    "plt.psd(s_dsb, Fs=Fs, label='DEP do sinal AM-DSB',sides='onesided', linewidth=0.8, NFFT=4096); # estima DEP do sinal modulado\n",
    "plt.legend();\n",
    "plt.xlim(0,Fs/2);\n",
    "plt.grid(True)"
   ]
  },
  {
   "cell_type": "markdown",
   "metadata": {
    "id": "YNE5a_WEdRfg"
   },
   "source": [
    "### Demodulação por envoltória"
   ]
  },
  {
   "cell_type": "code",
   "execution_count": null,
   "metadata": {
    "ExecuteTime": {
     "end_time": "2022-11-23T11:42:02.407065Z",
     "start_time": "2022-11-23T11:41:58.072226Z"
    },
    "colab": {
     "base_uri": "https://localhost:8080/",
     "height": 0
    },
    "id": "b20Y53wZdRfg",
    "outputId": "7ec853c7-9dca-4cc8-cad8-a599a51effd4",
    "scrolled": false
   },
   "outputs": [],
   "source": [
    "s_dsb_rx = np.abs(s_dsb)                # retificador\n",
    "x_demod = s_dsb_rx - np.mean(s_dsb_rx)  # retira nível DC\n",
    "x_demod = firFilter(g, x_demod)         # filtro passa-baixas\n",
    "\n",
    "plt.figure(figsize =(12,4))\n",
    "plt.psd(s_dsb_rx, Fs=Fs, label='DEP do sinal após o retificador',sides='twosided', linewidth=0.8, NFFT=4096); # estima DEP do sinal\n",
    "plt.psd(x_demod, Fs=Fs, label='DEP do sinal após o fpb',sides='twosided', linewidth=0.8, NFFT=4096); # estima DEP do sinal\n",
    "plt.legend();\n",
    "plt.xlim(0,Fs/2);\n",
    "plt.grid(True)\n",
    "\n",
    "t = np.arange(0, len(x))*1/Fs\n",
    "plt.figure(figsize =(12,4))\n",
    "plt.plot(t, x_demod, linewidth = 0.2, label='sinal de voz demodulado')\n",
    "plt.xlabel('Tempo (s)')\n",
    "plt.ylabel('Amplitude')\n",
    "plt.grid(True)\n",
    "plt.xlim(min(t),max(t))\n",
    "plt.legend();"
   ]
  },
  {
   "cell_type": "markdown",
   "metadata": {},
   "source": [
    "### Áudio demodulado"
   ]
  },
  {
   "cell_type": "code",
   "execution_count": null,
   "metadata": {
    "ExecuteTime": {
     "end_time": "2022-11-23T11:42:02.561965Z",
     "start_time": "2022-11-23T11:42:02.408122Z"
    },
    "colab": {
     "base_uri": "https://localhost:8080/"
    },
    "id": "FsRHzMF4dRfh",
    "outputId": "62a57b91-0c28-44c6-f552-ac785f970e50"
   },
   "outputs": [],
   "source": [
    "x_demod = x_demod/abs(x_demod).max(0)\n",
    "wavfile.write('voz_demodAMDSB.wav', int(Fs), x_demod.astype(np.float32))\n",
    "\n",
    "print('Áudio do sinal DSB demodulado por envoltória:')\n",
    "IPython.display.Audio('voz_demodAMDSB.wav')"
   ]
  },
  {
   "cell_type": "markdown",
   "metadata": {
    "id": "DDekoqPXdRfh"
   },
   "source": [
    "## Caso 2: modulação AM-DSB-SC\n",
    "\n",
    "### Modulação"
   ]
  },
  {
   "cell_type": "code",
   "execution_count": null,
   "metadata": {
    "ExecuteTime": {
     "end_time": "2022-11-18T18:01:43.581841Z",
     "start_time": "2022-11-18T18:01:42.938542Z"
    },
    "id": "A1gWmhkZdRfh"
   },
   "outputs": [],
   "source": [
    "# Modula sinal de voz e plota espectro do sinal modulado:\n",
    "s_dsb = x * np.cos(2*π*fc_tx*t)  # AM-DSB-SC\n",
    "\n",
    "\n",
    "ind = np.arange(8000,16000)\n",
    "plt.figure(figsize =(12,4))\n",
    "plt.plot(t[ind], s_dsb[ind], linewidth=0.8, alpha=0.75, label='Portadora modulada AM-DSB')\n",
    "plt.xlabel('Tempo (s)')\n",
    "plt.ylabel('Amplitude')\n",
    "plt.xlim(min(t[ind]), max(t[ind]))\n",
    "plt.grid()\n",
    "plt.legend()\n",
    "\n",
    "plt.figure(figsize =(12,4))\n",
    "plt.psd(x, Fs=Fs, label='DEP do sinal de voz',sides='onesided', linewidth=0.8, NFFT=4096); # estima DEP do sinal\n",
    "plt.psd(s_dsb, Fs=Fs, label='DEP do sinal AM-DSB-SC',sides='onesided', linewidth=0.8, NFFT=4096); # estima DEP do sinal modulado\n",
    "plt.legend();\n",
    "plt.xlim(0,Fs/2);\n",
    "plt.grid(True)"
   ]
  },
  {
   "cell_type": "markdown",
   "metadata": {},
   "source": [
    "### Demodulação síncrona"
   ]
  },
  {
   "cell_type": "code",
   "execution_count": null,
   "metadata": {
    "ExecuteTime": {
     "end_time": "2022-11-18T18:01:47.731133Z",
     "start_time": "2022-11-18T18:01:43.582839Z"
    },
    "colab": {
     "base_uri": "https://localhost:8080/",
     "height": 641
    },
    "id": "nJROcT8zdRfh",
    "outputId": "b1ff1315-253a-4c75-c93a-d64f08701b7a"
   },
   "outputs": [],
   "source": [
    "ϕ_rx = 0       # fase da portadora gerada no receptor\n",
    "fc_rx = fc_tx  # frequência da portadora gerada no receptor\n",
    "\n",
    "# demodulação síncrona\n",
    "s_dsb_rx = s_dsb*np.cos(2*π*fc_rx*t + ϕ_rx) # mixer\n",
    "x_demod = firFilter(g, s_dsb_rx)     # filtragem passa-baixas\n",
    "\n",
    "plt.figure(figsize =(12,4))\n",
    "plt.psd(s_dsb_rx, Fs=Fs, label='DEP do sinal após o mixer',sides='onesided', linewidth=0.8, NFFT=4096); # estima DEP do sinal\n",
    "plt.psd(x_demod, Fs=Fs, label='DEP do sinal após o fpb',sides='onesided', linewidth=0.8, NFFT=4096); # estima DEP do sinal\n",
    "plt.legend();\n",
    "plt.xlim(0,Fs/2);\n",
    "plt.grid(True)\n",
    "\n",
    "t = np.arange(0, len(x))*1/Fs\n",
    "plt.figure(figsize =(12,4))\n",
    "plt.plot(t, x_demod, linewidth = 0.2, label='Sinal de voz demodulado')\n",
    "plt.xlabel('Tempo (s)')\n",
    "plt.ylabel('Amplitude')\n",
    "plt.grid(True)\n",
    "plt.xlim(min(t),max(t))\n",
    "plt.legend();"
   ]
  },
  {
   "cell_type": "markdown",
   "metadata": {
    "id": "0ZDI2MF8dRfh"
   },
   "source": [
    "### Áudio demodulado"
   ]
  },
  {
   "cell_type": "code",
   "execution_count": null,
   "metadata": {
    "ExecuteTime": {
     "end_time": "2022-11-18T18:01:47.935214Z",
     "start_time": "2022-11-18T18:01:47.732181Z"
    },
    "colab": {
     "base_uri": "https://localhost:8080/",
     "height": 649
    },
    "id": "_trCqHKkdRfi",
    "outputId": "b3c681e4-bea5-468c-ee5e-af3e07da6afd"
   },
   "outputs": [],
   "source": [
    "x_demod = x_demod/abs(x_demod).max(0)\n",
    "wavfile.write('voz_demodAMDSB-SC.wav', int(Fs), x_demod.astype(np.float32))\n",
    "\n",
    "print('Áudio do sinal DSB-SC demodulado:')\n",
    "IPython.display.Audio('voz_demodAMDSB-SC.wav')"
   ]
  },
  {
   "cell_type": "markdown",
   "metadata": {},
   "source": [
    "## Caso 3: modulação AM-SSB\n",
    "\n",
    "### Filtro de Hilbert"
   ]
  },
  {
   "cell_type": "code",
   "execution_count": null,
   "metadata": {
    "ExecuteTime": {
     "end_time": "2022-11-18T18:01:48.475803Z",
     "start_time": "2022-11-18T18:01:47.937209Z"
    }
   },
   "outputs": [],
   "source": [
    "N = 4*2096              # número de coeficientes do filtro\n",
    "n = np.arange(-N,N+1)\n",
    "\n",
    "h = np.zeros(n.shape)\n",
    "h[n%2==1] = 2/(π*n[n%2==1])\n",
    "\n",
    "plt.vlines(n, 0, h,linewidth=2)\n",
    "plt.plot(n, h,'.', label='h(n)')\n",
    "plt.title('Resposta ao impulso do filtro de Hilbert discreto')\n",
    "plt.xlim(-64, 64)\n",
    "plt.grid()\n",
    "plt.xlabel('Índice do coefficiente (n)')\n",
    "plt.ylabel('h(n)')\n",
    "plt.legend();"
   ]
  },
  {
   "cell_type": "markdown",
   "metadata": {},
   "source": [
    "### Modulação"
   ]
  },
  {
   "cell_type": "code",
   "execution_count": null,
   "metadata": {
    "ExecuteTime": {
     "end_time": "2022-11-18T18:01:51.328202Z",
     "start_time": "2022-11-18T18:01:48.477768Z"
    }
   },
   "outputs": [],
   "source": [
    "s_ssb_lsb = x * np.cos(2*π*fc_tx*t) + hilbertT(x) * np.sin(2*π*fc_tx*t) # AM-SSB-LSB\n",
    "s_ssb_usb = x * np.cos(2*π*fc_tx*t) - hilbertT(x) * np.sin(2*π*fc_tx*t) # AM-SSB-USB\n",
    "\n",
    "# s_ssb_lsb = x * np.cos(2*π*fc_tx*t) + firFilter(h,x) * np.sin(2*π*fc_tx*t) # AM-SSB-LSB\n",
    "# s_ssb_usb = x * np.cos(2*π*fc_tx*t) - firFilter(h,x) * np.sin(2*π*fc_tx*t) # AM-SSB-USB\n",
    "\n",
    "ind = np.arange(8000,16000)\n",
    "plt.figure(figsize =(12,4))\n",
    "plt.plot(t[ind], s_ssb_lsb[ind], linewidth=0.8, alpha=0.75, label='Portadora modulada AM-SSB-LSB')\n",
    "plt.xlabel('Tempo (s)')\n",
    "plt.ylabel('Amplitude')\n",
    "plt.xlim(min(t[ind]), max(t[ind]))\n",
    "plt.grid()\n",
    "plt.legend()\n",
    "\n",
    "plt.figure(figsize =(12,4))\n",
    "plt.psd(x, Fs=Fs, label='DEP do sinal de voz',sides='onesided', linewidth=0.8, NFFT=4096); # estima DEP do sinal\n",
    "plt.psd(s_ssb_lsb, Fs=Fs, label='DEP do sinal AM-SSB-LSB',sides='onesided', linewidth=0.8, NFFT=4096); # estima DEP do sinal modulado\n",
    "plt.psd(s_ssb_usb, Fs=Fs, label='DEP do sinal AM-SSB-USB',sides='onesided', linewidth=0.8, NFFT=4096); # estima DEP do sinal modulado\n",
    "plt.legend();\n",
    "plt.xlim(0,Fs/2);\n",
    "plt.grid(True)"
   ]
  },
  {
   "cell_type": "markdown",
   "metadata": {},
   "source": [
    "### Demodulação síncrona"
   ]
  },
  {
   "cell_type": "code",
   "execution_count": null,
   "metadata": {
    "ExecuteTime": {
     "end_time": "2022-11-18T18:01:55.392762Z",
     "start_time": "2022-11-18T18:01:51.329170Z"
    }
   },
   "outputs": [],
   "source": [
    "ϕ_rx = 0       # fase da portadora gerada no receptor\n",
    "fc_rx = fc_tx  # frequência da portadora gerada no receptor\n",
    "\n",
    "# demodulação síncrona\n",
    "s_ssb_rx = s_ssb_lsb*np.cos(2*π*fc_rx*t + ϕ_rx) # mixer\n",
    "x_demod = firFilter(g, s_ssb_rx) # filtragem passa-baixas\n",
    "\n",
    "plt.figure(figsize =(12,4))\n",
    "plt.psd(s_ssb_rx, Fs=Fs, label='DEP do sinal após o mixer',sides='onesided', linewidth=0.8, NFFT=4096); # estima DEP do sinal\n",
    "plt.psd(x_demod, Fs=Fs, label='DEP do sinal após o fpb',sides='onesided', linewidth=0.8, NFFT=4096); # estima DEP do sinal\n",
    "plt.legend();\n",
    "plt.xlim(0,Fs/2);\n",
    "plt.grid(True)\n",
    "\n",
    "t = np.arange(0, len(x))*1/Fs\n",
    "plt.figure(figsize =(12,4))\n",
    "plt.plot(t, x_demod, linewidth = 0.2, label='Sinal de voz demodulado')\n",
    "plt.xlabel('Tempo (s)')\n",
    "plt.ylabel('Amplitude')\n",
    "plt.grid(True)\n",
    "plt.xlim(min(t),max(t))\n",
    "plt.legend();"
   ]
  },
  {
   "cell_type": "markdown",
   "metadata": {},
   "source": [
    "### Áudio demodulado"
   ]
  },
  {
   "cell_type": "code",
   "execution_count": null,
   "metadata": {
    "ExecuteTime": {
     "end_time": "2022-11-18T18:01:55.550340Z",
     "start_time": "2022-11-18T18:01:55.393729Z"
    }
   },
   "outputs": [],
   "source": [
    "x_demod = x_demod/abs(x_demod).max(0)\n",
    "wavfile.write('voz_demodAMSSB.wav', int(Fs), x_demod.astype(np.float32))\n",
    "\n",
    "print('Áudio do sinal SSB demodulado:')\n",
    "IPython.display.Audio('voz_demodAMSSB.wav')"
   ]
  },
  {
   "cell_type": "markdown",
   "metadata": {
    "id": "pnpjEYtkdRfm"
   },
   "source": [
    "## Referências\n",
    "\n",
    "[Função convolve()](https://numpy.org/doc/stable/reference/generated/numpy.convolve.html)\\\n",
    "[Função freqz()](https://docs.scipy.org/doc/scipy-0.16.0/reference/generated/scipy.signal.freqz.html)\\\n",
    "[Função psd()](https://matplotlib.org/3.1.1/api/_as_gen/matplotlib.pyplot.psd.html#matplotlib.pyplot.psd)"
   ]
  }
 ],
 "metadata": {
  "colab": {
   "include_colab_link": true,
   "provenance": []
  },
  "kernelspec": {
   "display_name": "Python 3 (ipykernel)",
   "language": "python",
   "name": "python3"
  },
  "language_info": {
   "codemirror_mode": {
    "name": "ipython",
    "version": 3
   },
   "file_extension": ".py",
   "mimetype": "text/x-python",
   "name": "python",
   "nbconvert_exporter": "python",
   "pygments_lexer": "ipython3",
   "version": "3.11.4"
  },
  "latex_envs": {
   "LaTeX_envs_menu_present": true,
   "autoclose": true,
   "autocomplete": true,
   "bibliofile": "biblio.bib",
   "cite_by": "apalike",
   "current_citInitial": 1,
   "eqLabelWithNumbers": true,
   "eqNumInitial": 1,
   "hotkeys": {
    "equation": "Ctrl-E",
    "itemize": "Ctrl-I"
   },
   "labels_anchors": false,
   "latex_user_defs": false,
   "report_style_numbering": false,
   "user_envs_cfg": false
  },
  "toc": {
   "base_numbering": 1,
   "nav_menu": {},
   "number_sections": true,
   "sideBar": true,
   "skip_h1_title": true,
   "title_cell": "Sumário",
   "title_sidebar": "Contents",
   "toc_cell": true,
   "toc_position": {
    "height": "47.6px",
    "left": "1363.4px",
    "top": "200.8px",
    "width": "165px"
   },
   "toc_section_display": true,
   "toc_window_display": false
  },
  "varInspector": {
   "cols": {
    "lenName": 16,
    "lenType": 16,
    "lenVar": 40
   },
   "kernels_config": {
    "python": {
     "delete_cmd_postfix": "",
     "delete_cmd_prefix": "del ",
     "library": "var_list.py",
     "varRefreshCmd": "print(var_dic_list())"
    },
    "r": {
     "delete_cmd_postfix": ") ",
     "delete_cmd_prefix": "rm(",
     "library": "var_list.r",
     "varRefreshCmd": "cat(var_dic_list()) "
    }
   },
   "oldHeight": 621.4,
   "position": {
    "height": "841.989px",
    "left": "1102.37px",
    "right": "20px",
    "top": "15.983px",
    "width": "598.949px"
   },
   "types_to_exclude": [
    "module",
    "function",
    "builtin_function_or_method",
    "instance",
    "_Feature"
   ],
   "varInspector_section_display": "block",
   "window_display": false
  }
 },
 "nbformat": 4,
 "nbformat_minor": 1
}
